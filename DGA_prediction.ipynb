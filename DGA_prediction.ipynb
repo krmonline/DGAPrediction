{
  "nbformat": 4,
  "nbformat_minor": 0,
  "metadata": {
    "accelerator": "GPU",
    "colab": {
      "name": "DGA_prediction.ipynb",
      "provenance": [],
      "authorship_tag": "ABX9TyMiT3USkB1oxVADqrRXKlxp",
      "include_colab_link": true
    },
    "kernelspec": {
      "display_name": "Python 3",
      "name": "python3"
    },
    "language_info": {
      "name": "python"
    }
  },
  "cells": [
    {
      "cell_type": "markdown",
      "metadata": {
        "id": "view-in-github",
        "colab_type": "text"
      },
      "source": [
        "<a href=\"https://colab.research.google.com/github/krmonline/DGAPrediction/blob/master/DGA_prediction.ipynb\" target=\"_parent\"><img src=\"https://colab.research.google.com/assets/colab-badge.svg\" alt=\"Open In Colab\"/></a>"
      ]
    },
    {
      "cell_type": "code",
      "metadata": {
        "id": "pqoD6Bx2aYJy"
      },
      "source": [
        "import requests\n",
        "import pandas as pd\n",
        "import numpy as np\n",
        "import tensorflow as tf\n",
        "import matplotlib.pyplot as plt\n"
      ],
      "execution_count": 1,
      "outputs": []
    },
    {
      "cell_type": "code",
      "metadata": {
        "id": "QR0HWEY0SlBH"
      },
      "source": [
        "CHARS = [\n",
        "  '\\n', ' ', '!', '\"', '#', '$', '%', '&', \"'\", '(', ')', '*', '+',\n",
        "  ',', '-', '.', '/', '0', '1', '2', '3', '4', '5', '6', '7', '8',\n",
        "  '9', ':', ';', '<', '=', '>', '?', '@', 'A', 'B', 'C', 'D', 'E',\n",
        "  'F', 'G', 'H', 'I', 'J', 'K', 'L', 'M', 'N', 'O', 'P', 'Q', 'R',\n",
        "  'S', 'T', 'U', 'V', 'W', 'X', 'Y', 'Z', '[', '\\\\', ']', '^', '_',\n",
        "  'a', 'b', 'c', 'd', 'e', 'f', 'g', 'h', 'i', 'j', 'k', 'l', 'm',\n",
        "  'n', 'o', 'other', 'p', 'q', 'r', 's', 't', 'u', 'v', 'w', 'x', 'y',\n",
        "  'z', '}', '~', 'ก', 'ข', 'ฃ', 'ค', 'ฅ', 'ฆ', 'ง', 'จ', 'ฉ', 'ช',\n",
        "  'ซ', 'ฌ', 'ญ', 'ฎ', 'ฏ', 'ฐ', 'ฑ', 'ฒ', 'ณ', 'ด', 'ต', 'ถ', 'ท',\n",
        "  'ธ', 'น', 'บ', 'ป', 'ผ', 'ฝ', 'พ', 'ฟ', 'ภ', 'ม', 'ย', 'ร', 'ฤ',\n",
        "  'ล', 'ว', 'ศ', 'ษ', 'ส', 'ห', 'ฬ', 'อ', 'ฮ', 'ฯ', 'ะ', 'ั', 'า',\n",
        "  'ำ', 'ิ', 'ี', 'ึ', 'ื', 'ุ', 'ู', 'ฺ', 'เ', 'แ', 'โ', 'ใ', 'ไ',\n",
        "  'ๅ', 'ๆ', '็', '่', '้', '๊', '๋', '์', 'ํ', '๐', '๑', '๒', '๓',\n",
        "  '๔', '๕', '๖', '๗', '๘', '๙', '‘', '’', '\\ufeff'\n",
        "]\n",
        "CHARS_MAP = {v: k for k, v in enumerate(CHARS)}\n",
        "\n",
        "def name2arr(x):\n",
        "  result = \"\"\n",
        "  for i in x:\n",
        "    if i not in CHARS_MAP:\n",
        "      i = '\\ufeff' #OutOfVocab\n",
        "    if result == \"\":\n",
        "      result = str(CHARS_MAP[i])\n",
        "    else:\n",
        "      result = result + \",\" + str(CHARS_MAP[i])\n",
        "  return result"
      ],
      "execution_count": 2,
      "outputs": []
    },
    {
      "cell_type": "code",
      "metadata": {
        "id": "XMuoKciPcLOu"
      },
      "source": [
        "df_false = pd.read_csv(\"https://raw.githubusercontent.com/philarkwright/DGA-Detection/master/data/dga_training.txt\",names = ['domain'])\n",
        "df_true = pd.read_csv(\"https://raw.githubusercontent.com/handshake-org/hs-names/master/data/top-1m.csv\",names = ['domain'])\n",
        "df_false['label'] = 1\n",
        "df_true['label'] = 0\n",
        "#df_true.sample(100000)\n",
        "df_true = df_true.iloc[:100000].copy()"
      ],
      "execution_count": 3,
      "outputs": []
    },
    {
      "cell_type": "code",
      "metadata": {
        "id": "dIgMRnybSVSR"
      },
      "source": [
        "df = pd.concat([df_false,df_true])"
      ],
      "execution_count": 4,
      "outputs": []
    },
    {
      "cell_type": "code",
      "metadata": {
        "id": "OnnFKr0rVb-4"
      },
      "source": [
        "df['arr_num'] = df.domain.apply(name2arr)"
      ],
      "execution_count": 5,
      "outputs": []
    },
    {
      "cell_type": "code",
      "metadata": {
        "colab": {
          "base_uri": "https://localhost:8080/",
          "height": 419
        },
        "id": "_1V8LHSKVwo2",
        "outputId": "6e127873-ce4b-442d-b0ef-3aca9163a7e2"
      },
      "source": [
        "df"
      ],
      "execution_count": 6,
      "outputs": [
        {
          "output_type": "execute_result",
          "data": {
            "text/html": [
              "<div>\n",
              "<style scoped>\n",
              "    .dataframe tbody tr th:only-of-type {\n",
              "        vertical-align: middle;\n",
              "    }\n",
              "\n",
              "    .dataframe tbody tr th {\n",
              "        vertical-align: top;\n",
              "    }\n",
              "\n",
              "    .dataframe thead th {\n",
              "        text-align: right;\n",
              "    }\n",
              "</style>\n",
              "<table border=\"1\" class=\"dataframe\">\n",
              "  <thead>\n",
              "    <tr style=\"text-align: right;\">\n",
              "      <th></th>\n",
              "      <th>domain</th>\n",
              "      <th>label</th>\n",
              "      <th>arr_num</th>\n",
              "    </tr>\n",
              "  </thead>\n",
              "  <tbody>\n",
              "    <tr>\n",
              "      <th>0</th>\n",
              "      <td>gllcsbqrbfch.com</td>\n",
              "      <td>1</td>\n",
              "      <td>71,76,76,67,84,66,82,83,66,70,67,72,15,67,79,77</td>\n",
              "    </tr>\n",
              "    <tr>\n",
              "      <th>1</th>\n",
              "      <td>hkgjjokkwodt.com</td>\n",
              "      <td>1</td>\n",
              "      <td>72,75,71,74,74,79,75,75,88,79,68,85,15,67,79,77</td>\n",
              "    </tr>\n",
              "    <tr>\n",
              "      <th>2</th>\n",
              "      <td>jjnehudfmclq.com</td>\n",
              "      <td>1</td>\n",
              "      <td>74,74,78,69,72,86,68,70,77,67,76,82,15,67,79,77</td>\n",
              "    </tr>\n",
              "    <tr>\n",
              "      <th>3</th>\n",
              "      <td>hieffvbcjitc.com</td>\n",
              "      <td>1</td>\n",
              "      <td>72,73,69,70,70,87,66,67,74,73,85,67,15,67,79,77</td>\n",
              "    </tr>\n",
              "    <tr>\n",
              "      <th>4</th>\n",
              "      <td>fckjmggtxchv.com</td>\n",
              "      <td>1</td>\n",
              "      <td>70,67,75,74,77,71,71,85,89,67,72,87,15,67,79,77</td>\n",
              "    </tr>\n",
              "    <tr>\n",
              "      <th>...</th>\n",
              "      <td>...</td>\n",
              "      <td>...</td>\n",
              "      <td>...</td>\n",
              "    </tr>\n",
              "    <tr>\n",
              "      <th>99996</th>\n",
              "      <td>mir-ved.ru</td>\n",
              "      <td>0</td>\n",
              "      <td>77,73,83,14,87,69,68,15,83,86</td>\n",
              "    </tr>\n",
              "    <tr>\n",
              "      <th>99997</th>\n",
              "      <td>coffeenews.it</td>\n",
              "      <td>0</td>\n",
              "      <td>67,79,70,70,69,69,78,69,88,84,15,73,85</td>\n",
              "    </tr>\n",
              "    <tr>\n",
              "      <th>99998</th>\n",
              "      <td>iglo.co.in</td>\n",
              "      <td>0</td>\n",
              "      <td>73,71,76,79,15,67,79,15,73,78</td>\n",
              "    </tr>\n",
              "    <tr>\n",
              "      <th>99999</th>\n",
              "      <td>taketours.com</td>\n",
              "      <td>0</td>\n",
              "      <td>85,65,75,69,85,79,86,83,84,15,67,79,77</td>\n",
              "    </tr>\n",
              "    <tr>\n",
              "      <th>100000</th>\n",
              "      <td>aluguetemporada.com.br</td>\n",
              "      <td>0</td>\n",
              "      <td>65,76,86,71,86,69,85,69,77,81,79,83,65,68,65,1...</td>\n",
              "    </tr>\n",
              "  </tbody>\n",
              "</table>\n",
              "<p>200000 rows × 3 columns</p>\n",
              "</div>"
            ],
            "text/plain": [
              "                        domain  ...                                            arr_num\n",
              "0             gllcsbqrbfch.com  ...    71,76,76,67,84,66,82,83,66,70,67,72,15,67,79,77\n",
              "1             hkgjjokkwodt.com  ...    72,75,71,74,74,79,75,75,88,79,68,85,15,67,79,77\n",
              "2             jjnehudfmclq.com  ...    74,74,78,69,72,86,68,70,77,67,76,82,15,67,79,77\n",
              "3             hieffvbcjitc.com  ...    72,73,69,70,70,87,66,67,74,73,85,67,15,67,79,77\n",
              "4             fckjmggtxchv.com  ...    70,67,75,74,77,71,71,85,89,67,72,87,15,67,79,77\n",
              "...                        ...  ...                                                ...\n",
              "99996               mir-ved.ru  ...                      77,73,83,14,87,69,68,15,83,86\n",
              "99997            coffeenews.it  ...             67,79,70,70,69,69,78,69,88,84,15,73,85\n",
              "99998               iglo.co.in  ...                      73,71,76,79,15,67,79,15,73,78\n",
              "99999            taketours.com  ...             85,65,75,69,85,79,86,83,84,15,67,79,77\n",
              "100000  aluguetemporada.com.br  ...  65,76,86,71,86,69,85,69,77,81,79,83,65,68,65,1...\n",
              "\n",
              "[200000 rows x 3 columns]"
            ]
          },
          "metadata": {
            "tags": []
          },
          "execution_count": 6
        }
      ]
    },
    {
      "cell_type": "code",
      "metadata": {
        "colab": {
          "base_uri": "https://localhost:8080/"
        },
        "id": "oAftQqLwWbNG",
        "outputId": "13ecba30-9c84-4e3b-dcb6-c9b0401926f4"
      },
      "source": [
        "arr_numID = []\n",
        "maxlen = 0\n",
        "n = 0\n",
        "for i in df.arr_num:\n",
        "  n = n+1\n",
        "  #print(n,i)\n",
        "  arr_tmp = [int(iInt) for iInt in i.split(',')]\n",
        "  #print(arr_tmp)\n",
        "  arr_numID.append(arr_tmp)\n",
        "  #print(i.split(','))\n",
        "  lentmp = len(arr_numID[-1])\n",
        "  if maxlen < lentmp:\n",
        "    maxlen = lentmp\n",
        "    #print(arr_tmp)\n",
        "maxlen = int(maxlen*1.5)\n",
        "print(maxlen)"
      ],
      "execution_count": 7,
      "outputs": [
        {
          "output_type": "stream",
          "text": [
            "100\n"
          ],
          "name": "stdout"
        }
      ]
    },
    {
      "cell_type": "code",
      "metadata": {
        "id": "aY5GfVGUWisS"
      },
      "source": [
        "from sklearn.model_selection import train_test_split"
      ],
      "execution_count": 8,
      "outputs": []
    },
    {
      "cell_type": "code",
      "metadata": {
        "id": "GTHLcV3PXBiQ"
      },
      "source": [
        "X = tf.keras.preprocessing.sequence.pad_sequences(\n",
        "    arr_numID, maxlen=maxlen, dtype='int32', padding='pre',\n",
        "    truncating='pre', value=0.0\n",
        ")\n",
        "y = df.label.values"
      ],
      "execution_count": 9,
      "outputs": []
    },
    {
      "cell_type": "code",
      "metadata": {
        "colab": {
          "base_uri": "https://localhost:8080/"
        },
        "id": "NEyg81d1XD-K",
        "outputId": "d4d86a5b-39fc-4b34-99af-8bc9bffd2f41"
      },
      "source": [
        "X_trainTMP, X_test, y_trainTMP, y_test = train_test_split(X, y, test_size=0.2)\n",
        "X_train, X_valid, y_train, y_valid = train_test_split(X_trainTMP, y_trainTMP, test_size=0.3, random_state=42)\n",
        "X_train.shape,y_train.shape,X_valid.shape,y_valid.shape,X_test.shape,y_test.shape,"
      ],
      "execution_count": 10,
      "outputs": [
        {
          "output_type": "execute_result",
          "data": {
            "text/plain": [
              "((112000, 100), (112000,), (48000, 100), (48000,), (40000, 100), (40000,))"
            ]
          },
          "metadata": {
            "tags": []
          },
          "execution_count": 10
        }
      ]
    },
    {
      "cell_type": "code",
      "metadata": {
        "colab": {
          "base_uri": "https://localhost:8080/"
        },
        "id": "NVsavYCcXH3k",
        "outputId": "99c369fb-eb27-426b-b729-c0c6c9157248"
      },
      "source": [
        "vocab_size = len(CHARS)\n",
        "print(vocab_size)\n",
        "model = tf.keras.Sequential([\n",
        "    tf.keras.layers.Embedding(vocab_size, 1, input_length=maxlen),\n",
        "    tf.keras.layers.LSTM(1,return_sequences=False),\n",
        "    tf.keras.layers.Dense(1, activation='sigmoid')\n",
        "])\n",
        "model.compile(loss=tf.keras.losses.binary_crossentropy,optimizer='adam',metrics=['accuracy'])\n",
        "model.summary()\n",
        "loss = []\n",
        "val_loss = []\n",
        "acc = []\n",
        "val_acc = []"
      ],
      "execution_count": 11,
      "outputs": [
        {
          "output_type": "stream",
          "text": [
            "178\n",
            "Model: \"sequential\"\n",
            "_________________________________________________________________\n",
            "Layer (type)                 Output Shape              Param #   \n",
            "=================================================================\n",
            "embedding (Embedding)        (None, 100, 1)            178       \n",
            "_________________________________________________________________\n",
            "lstm (LSTM)                  (None, 1)                 12        \n",
            "_________________________________________________________________\n",
            "dense (Dense)                (None, 1)                 2         \n",
            "=================================================================\n",
            "Total params: 192\n",
            "Trainable params: 192\n",
            "Non-trainable params: 0\n",
            "_________________________________________________________________\n"
          ],
          "name": "stdout"
        }
      ]
    },
    {
      "cell_type": "code",
      "metadata": {
        "colab": {
          "base_uri": "https://localhost:8080/"
        },
        "id": "D2ukMGaDXQYc",
        "outputId": "67bade37-25ee-4384-ebdd-8b083ad48483"
      },
      "source": [
        "%%time\n",
        "history_tmp = model.fit(X_train,y_train,epochs=10,validation_data=(X_valid,y_valid),verbose=1)"
      ],
      "execution_count": 12,
      "outputs": [
        {
          "output_type": "stream",
          "text": [
            "Epoch 1/10\n",
            "3500/3500 [==============================] - 46s 8ms/step - loss: 0.4170 - accuracy: 0.9028 - val_loss: 0.1294 - val_accuracy: 0.9678\n",
            "Epoch 2/10\n",
            "3500/3500 [==============================] - 28s 8ms/step - loss: 0.1262 - accuracy: 0.9653 - val_loss: 0.0955 - val_accuracy: 0.9728\n",
            "Epoch 3/10\n",
            "3500/3500 [==============================] - 28s 8ms/step - loss: 0.0931 - accuracy: 0.9725 - val_loss: 0.0786 - val_accuracy: 0.9777\n",
            "Epoch 4/10\n",
            "3500/3500 [==============================] - 28s 8ms/step - loss: 0.0863 - accuracy: 0.9741 - val_loss: 0.0662 - val_accuracy: 0.9790\n",
            "Epoch 5/10\n",
            "3500/3500 [==============================] - 28s 8ms/step - loss: 0.0669 - accuracy: 0.9780 - val_loss: 0.0612 - val_accuracy: 0.9801\n",
            "Epoch 6/10\n",
            "3500/3500 [==============================] - 28s 8ms/step - loss: 0.0596 - accuracy: 0.9798 - val_loss: 0.0556 - val_accuracy: 0.9808\n",
            "Epoch 7/10\n",
            "3500/3500 [==============================] - 28s 8ms/step - loss: 0.0573 - accuracy: 0.9797 - val_loss: 0.0535 - val_accuracy: 0.9812\n",
            "Epoch 8/10\n",
            "3500/3500 [==============================] - 28s 8ms/step - loss: 0.0550 - accuracy: 0.9808 - val_loss: 0.0521 - val_accuracy: 0.9819\n",
            "Epoch 9/10\n",
            "3500/3500 [==============================] - 28s 8ms/step - loss: 0.0532 - accuracy: 0.9809 - val_loss: 0.0510 - val_accuracy: 0.9816\n",
            "Epoch 10/10\n",
            "3500/3500 [==============================] - 28s 8ms/step - loss: 0.0532 - accuracy: 0.9814 - val_loss: 0.0500 - val_accuracy: 0.9819\n",
            "CPU times: user 5min 20s, sys: 34.3 s, total: 5min 55s\n",
            "Wall time: 4min 54s\n"
          ],
          "name": "stdout"
        }
      ]
    },
    {
      "cell_type": "code",
      "metadata": {
        "id": "AUAjF_pJXWWf"
      },
      "source": [
        "loss.extend(history_tmp.history['loss'])\n",
        "val_loss.extend(history_tmp.history['val_loss'])\n",
        "acc.extend(history_tmp.history['accuracy'])\n",
        "val_acc.extend(history_tmp.history['val_accuracy'])"
      ],
      "execution_count": 13,
      "outputs": []
    },
    {
      "cell_type": "code",
      "metadata": {
        "colab": {
          "base_uri": "https://localhost:8080/",
          "height": 530
        },
        "id": "EtfzgvOdZPpc",
        "outputId": "b32f6877-5d89-4437-d5f3-929c2fd165de"
      },
      "source": [
        "plt.plot(loss)\n",
        "plt.plot(val_loss)\n",
        "plt.show()\n",
        "plt.plot(acc)\n",
        "plt.plot(val_acc)"
      ],
      "execution_count": 14,
      "outputs": [
        {
          "output_type": "display_data",
          "data": {
            "image/png": "[encoded data removed]",
            "text/plain": [
              "<Figure size 432x288 with 1 Axes>"
            ]
          },
          "metadata": {
            "tags": [],
            "needs_background": "light"
          }
        },
        {
          "output_type": "execute_result",
          "data": {
            "text/plain": [
              "[<matplotlib.lines.Line2D at 0x7fc878048a10>]"
            ]
          },
          "metadata": {
            "tags": []
          },
          "execution_count": 14
        },
        {
          "output_type": "display_data",
          "data": {
            "image/png": "[encoded data removed]",
            "text/plain": [
              "<Figure size 432x288 with 1 Axes>"
            ]
          },
          "metadata": {
            "tags": [],
            "needs_background": "light"
          }
        }
      ]
    },
    {
      "cell_type": "code",
      "metadata": {
        "colab": {
          "base_uri": "https://localhost:8080/"
        },
        "id": "jNE9EcsnZRXB",
        "outputId": "c3af1c9b-deb3-47bf-80f8-2c9e125196d0"
      },
      "source": [
        "name = \"nonehgdemxxw.com\"\n",
        "arr = [int(i) for i in name2arr(name).split(\",\")]\n",
        "dataTest = tf.keras.preprocessing.sequence.pad_sequences(np.array([arr]), maxlen=maxlen, dtype='int32', padding='pre',truncating='pre', value=0.0)\n",
        "print (\"This Domain is DGA\" if model.predict(dataTest)[0][0] > 0.5 else \"This Domain is not DGA\")"
      ],
      "execution_count": 42,
      "outputs": [
        {
          "output_type": "stream",
          "text": [
            "This Domain is DGA\n"
          ],
          "name": "stdout"
        }
      ]
    },
    {
      "cell_type": "code",
      "metadata": {
        "id": "uri0ct5cZblc"
      },
      "source": [
        "from sklearn import metrics"
      ],
      "execution_count": 43,
      "outputs": []
    },
    {
      "cell_type": "code",
      "metadata": {
        "colab": {
          "base_uri": "https://localhost:8080/"
        },
        "id": "4aIWa4EGZpUl",
        "outputId": "f0e66755-7eed-4359-a16d-d56f3a287973"
      },
      "source": [
        "pred = model.predict_classes(X_test)"
      ],
      "execution_count": 44,
      "outputs": [
        {
          "output_type": "stream",
          "text": [
            "/usr/local/lib/python3.7/dist-packages/tensorflow/python/keras/engine/sequential.py:450: UserWarning: `model.predict_classes()` is deprecated and will be removed after 2021-01-01. Please use instead:* `np.argmax(model.predict(x), axis=-1)`,   if your model does multi-class classification   (e.g. if it uses a `softmax` last-layer activation).* `(model.predict(x) > 0.5).astype(\"int32\")`,   if your model does binary classification   (e.g. if it uses a `sigmoid` last-layer activation).\n",
            "  warnings.warn('`model.predict_classes()` is deprecated and '\n"
          ],
          "name": "stderr"
        }
      ]
    },
    {
      "cell_type": "code",
      "metadata": {
        "colab": {
          "base_uri": "https://localhost:8080/"
        },
        "id": "990ao-gDZrXT",
        "outputId": "4e62a6e3-d43c-4404-d666-894e181f7d39"
      },
      "source": [
        "print(metrics.classification_report(y_test,pred))"
      ],
      "execution_count": 45,
      "outputs": [
        {
          "output_type": "stream",
          "text": [
            "              precision    recall  f1-score   support\n",
            "\n",
            "           0       0.98      0.98      0.98     20123\n",
            "           1       0.98      0.98      0.98     19877\n",
            "\n",
            "    accuracy                           0.98     40000\n",
            "   macro avg       0.98      0.98      0.98     40000\n",
            "weighted avg       0.98      0.98      0.98     40000\n",
            "\n"
          ],
          "name": "stdout"
        }
      ]
    },
    {
      "cell_type": "code",
      "metadata": {
        "id": "jJO8B2UfZtY1"
      },
      "source": [
        "pred = model.predict(X_test)\n",
        "fpr, tpr, thresholds = metrics.roc_curve(y_test,pred)"
      ],
      "execution_count": 46,
      "outputs": []
    },
    {
      "cell_type": "code",
      "metadata": {
        "colab": {
          "base_uri": "https://localhost:8080/",
          "height": 282
        },
        "id": "GPiD-9eTZwmi",
        "outputId": "5a56be9b-1cf4-44ff-c179-7f219211618c"
      },
      "source": [
        "plt.grid()\n",
        "plt.plot(fpr,tpr)"
      ],
      "execution_count": 47,
      "outputs": [
        {
          "output_type": "execute_result",
          "data": {
            "text/plain": [
              "[<matplotlib.lines.Line2D at 0x7fc868bd0b90>]"
            ]
          },
          "metadata": {
            "tags": []
          },
          "execution_count": 47
        },
        {
          "output_type": "display_data",
          "data": {
            "image/png": "[encoded data removed]",
            "text/plain": [
              "<Figure size 432x288 with 1 Axes>"
            ]
          },
          "metadata": {
            "tags": [],
            "needs_background": "light"
          }
        }
      ]
    },
    {
      "cell_type": "code",
      "metadata": {
        "id": "CQvqjhb4Zyw4"
      },
      "source": [
        "model.save_weights(\"weights/dga\")"
      ],
      "execution_count": 23,
      "outputs": []
    },
    {
      "cell_type": "code",
      "metadata": {
        "id": "fWVIiYN7-f5C"
      },
      "source": [
        ""
      ],
      "execution_count": null,
      "outputs": []
    }
  ]
}